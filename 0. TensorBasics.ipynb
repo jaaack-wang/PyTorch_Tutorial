{
  "nbformat": 4,
  "nbformat_minor": 0,
  "metadata": {
    "colab": {
      "provenance": [],
      "toc_visible": true
    },
    "kernelspec": {
      "name": "python3",
      "display_name": "Python 3"
    },
    "language_info": {
      "name": "python"
    }
  },
  "cells": [
    {
      "cell_type": "code",
      "execution_count": 1,
      "metadata": {
        "id": "cua6CxRZaz6z"
      },
      "outputs": [],
      "source": [
        "import torch\n",
        "import matplotlib.pyplot as plt"
      ]
    },
    {
      "cell_type": "code",
      "source": [],
      "metadata": {
        "id": "LgY3d3yT4JqG"
      },
      "execution_count": 1,
      "outputs": []
    },
    {
      "cell_type": "markdown",
      "source": [
        "# Creating tensors\n",
        "\n",
        "- Create tensors from existing data using `torch.tensor`\n",
        "- Creating tensors from scratch"
      ],
      "metadata": {
        "id": "9X8Nu-s1eFUg"
      }
    },
    {
      "cell_type": "markdown",
      "source": [
        "## Create tensors from existing data using `torch.tensor`\n",
        "\n"
      ],
      "metadata": {
        "id": "ixChwdM5mmG4"
      }
    },
    {
      "cell_type": "code",
      "source": [
        "integers = list(range(10))\n",
        "print(integers)"
      ],
      "metadata": {
        "id": "mjBeGSbdeEEl",
        "colab": {
          "base_uri": "https://localhost:8080/"
        },
        "outputId": "7f30717d-e9a3-49ae-d2b2-00f3a2198e63"
      },
      "execution_count": 2,
      "outputs": [
        {
          "output_type": "stream",
          "name": "stdout",
          "text": [
            "[0, 1, 2, 3, 4, 5, 6, 7, 8, 9]\n"
          ]
        }
      ]
    },
    {
      "cell_type": "code",
      "source": [
        "# tensor.int \n",
        "\n",
        "tensors_int = torch.tensor(integers)\n",
        "print(tensors_int.dtype, tensors_int)"
      ],
      "metadata": {
        "id": "WfgL3r5SeEIc",
        "colab": {
          "base_uri": "https://localhost:8080/"
        },
        "outputId": "0ad851d6-9e79-4a79-c397-01aef6419159"
      },
      "execution_count": 3,
      "outputs": [
        {
          "output_type": "stream",
          "name": "stdout",
          "text": [
            "torch.int64 tensor([0, 1, 2, 3, 4, 5, 6, 7, 8, 9])\n"
          ]
        }
      ]
    },
    {
      "cell_type": "code",
      "source": [],
      "metadata": {
        "id": "H1xtWbEnniho"
      },
      "execution_count": 3,
      "outputs": []
    },
    {
      "cell_type": "code",
      "source": [
        "# tensor.float \n",
        "\n",
        "floats = [n/10 for n in range(10)]\n",
        "print(floats)"
      ],
      "metadata": {
        "id": "0DDhnjn3eELG",
        "colab": {
          "base_uri": "https://localhost:8080/"
        },
        "outputId": "c824b57a-602f-4805-cf51-20331333e173"
      },
      "execution_count": 4,
      "outputs": [
        {
          "output_type": "stream",
          "name": "stdout",
          "text": [
            "[0.0, 0.1, 0.2, 0.3, 0.4, 0.5, 0.6, 0.7, 0.8, 0.9]\n"
          ]
        }
      ]
    },
    {
      "cell_type": "code",
      "source": [
        "tensors_float = torch.tensor(floats)\n",
        "print(tensors_float.dtype, tensors_float)"
      ],
      "metadata": {
        "id": "2RncPahGeEUs",
        "colab": {
          "base_uri": "https://localhost:8080/"
        },
        "outputId": "a23506ce-17ef-4d63-bf53-8e1e40ece139"
      },
      "execution_count": 5,
      "outputs": [
        {
          "output_type": "stream",
          "name": "stdout",
          "text": [
            "torch.float32 tensor([0.0000, 0.1000, 0.2000, 0.3000, 0.4000, 0.5000, 0.6000, 0.7000, 0.8000,\n",
            "        0.9000])\n"
          ]
        }
      ]
    },
    {
      "cell_type": "code",
      "source": [],
      "metadata": {
        "id": "Zuvbhg0onKV5"
      },
      "execution_count": 5,
      "outputs": []
    },
    {
      "cell_type": "code",
      "source": [
        "# data type from Python's point of view\n",
        "\n",
        "type(tensors_int), type(tensors_float)"
      ],
      "metadata": {
        "id": "d-uW3UFtw8_m",
        "colab": {
          "base_uri": "https://localhost:8080/"
        },
        "outputId": "9b882472-fd01-4574-90ff-514f7e3afb5c"
      },
      "execution_count": 6,
      "outputs": [
        {
          "output_type": "execute_result",
          "data": {
            "text/plain": [
              "(torch.Tensor, torch.Tensor)"
            ]
          },
          "metadata": {},
          "execution_count": 6
        }
      ]
    },
    {
      "cell_type": "code",
      "source": [],
      "metadata": {
        "id": "PsrEfBkYw8YO"
      },
      "execution_count": 6,
      "outputs": []
    },
    {
      "cell_type": "markdown",
      "source": [
        "## Creating tensors from scratch \n",
        "\n",
        "- Evenly spaced numbers \n",
        "- Random numbers\n",
        "- Fixed numbers"
      ],
      "metadata": {
        "id": "htsDuFueg0-d"
      }
    },
    {
      "cell_type": "markdown",
      "source": [
        "### Evenly spaced numbers (one-dimensional)\n",
        " \n",
        "- integers: `torch.arange`\n",
        "- floats: `torch.linspace`"
      ],
      "metadata": {
        "id": "062kZ0TIm6Lg"
      }
    },
    {
      "cell_type": "code",
      "source": [
        "# just like how range() works in Python!\n",
        "\n",
        "torch.arange(10)"
      ],
      "metadata": {
        "id": "aGrguaQbliyo",
        "colab": {
          "base_uri": "https://localhost:8080/"
        },
        "outputId": "cb133eec-4d54-4beb-bf29-3995116a829a"
      },
      "execution_count": 7,
      "outputs": [
        {
          "output_type": "execute_result",
          "data": {
            "text/plain": [
              "tensor([0, 1, 2, 3, 4, 5, 6, 7, 8, 9])"
            ]
          },
          "metadata": {},
          "execution_count": 7
        }
      ]
    },
    {
      "cell_type": "code",
      "source": [
        "# arguments \"start, end, step\" are mandatory!\n",
        "torch.linspace(start=0, end=9, steps=10)"
      ],
      "metadata": {
        "id": "SZLY8HsqguYc",
        "colab": {
          "base_uri": "https://localhost:8080/"
        },
        "outputId": "6cc5425d-9fe7-4e67-fb30-8b552f226b8f"
      },
      "execution_count": 8,
      "outputs": [
        {
          "output_type": "execute_result",
          "data": {
            "text/plain": [
              "tensor([0., 1., 2., 3., 4., 5., 6., 7., 8., 9.])"
            ]
          },
          "metadata": {},
          "execution_count": 8
        }
      ]
    },
    {
      "cell_type": "code",
      "source": [
        "# quiz: how to create 0.0 - 0.9 using torch.linspace?\n",
        "\n",
        "# torch.linspace(start=, end=, steps=)"
      ],
      "metadata": {
        "id": "XS8MOTTul01C"
      },
      "execution_count": 9,
      "outputs": []
    },
    {
      "cell_type": "code",
      "source": [],
      "metadata": {
        "id": "EwIW49CMoZh1"
      },
      "execution_count": 9,
      "outputs": []
    },
    {
      "cell_type": "markdown",
      "source": [
        "### Random numbers (n-dimensional)\n",
        "\n",
        "- integers: torch.randint\n",
        "- floats: torch.rand"
      ],
      "metadata": {
        "id": "bigt_bcyh2-h"
      }
    },
    {
      "cell_type": "code",
      "source": [
        "# Note: size must take a TUPLE as input! Don't forget the comma for 1-D data!\n",
        "\n",
        "torch.randint(low=0, high=10, size=(10,))"
      ],
      "metadata": {
        "id": "RkHtOw4brm-G",
        "colab": {
          "base_uri": "https://localhost:8080/"
        },
        "outputId": "23529eb6-7513-4690-f0e6-5f6480da8ebc"
      },
      "execution_count": 10,
      "outputs": [
        {
          "output_type": "execute_result",
          "data": {
            "text/plain": [
              "tensor([6, 8, 8, 6, 8, 8, 1, 8, 3, 2])"
            ]
          },
          "metadata": {},
          "execution_count": 10
        }
      ]
    },
    {
      "cell_type": "code",
      "source": [
        "torch.randint(low=0, high=10, size=(2, 3))"
      ],
      "metadata": {
        "id": "uPxrCr8S1fNy",
        "colab": {
          "base_uri": "https://localhost:8080/"
        },
        "outputId": "228c7d2b-c823-4415-d273-db6b1c96043e"
      },
      "execution_count": 11,
      "outputs": [
        {
          "output_type": "execute_result",
          "data": {
            "text/plain": [
              "tensor([[8, 6, 8],\n",
              "        [5, 2, 3]])"
            ]
          },
          "metadata": {},
          "execution_count": 11
        }
      ]
    },
    {
      "cell_type": "code",
      "source": [],
      "metadata": {
        "id": "JCWZ8dGe1fZy"
      },
      "execution_count": 11,
      "outputs": []
    },
    {
      "cell_type": "code",
      "source": [
        "# uniform distribution from [0, 1)\n",
        "\n",
        "torch.rand(10)"
      ],
      "metadata": {
        "id": "E5ucxv23hy2f",
        "colab": {
          "base_uri": "https://localhost:8080/"
        },
        "outputId": "9828e2d7-ef86-4801-c0f2-812c0797e006"
      },
      "execution_count": 12,
      "outputs": [
        {
          "output_type": "execute_result",
          "data": {
            "text/plain": [
              "tensor([0.6969, 0.5562, 0.2269, 0.8216, 0.0213, 0.6196, 0.3568, 0.2893, 0.2893,\n",
              "        0.6258])"
            ]
          },
          "metadata": {},
          "execution_count": 12
        }
      ]
    },
    {
      "cell_type": "code",
      "source": [
        "torch.rand(2, 3)"
      ],
      "metadata": {
        "id": "2T7Ahivt1rFk",
        "colab": {
          "base_uri": "https://localhost:8080/"
        },
        "outputId": "014a6e98-9ed2-4b8d-f43b-6ae534e941f5"
      },
      "execution_count": 13,
      "outputs": [
        {
          "output_type": "execute_result",
          "data": {
            "text/plain": [
              "tensor([[0.6854, 0.0317, 0.5791],\n",
              "        [0.3998, 0.3514, 0.8937]])"
            ]
          },
          "metadata": {},
          "execution_count": 13
        }
      ]
    },
    {
      "cell_type": "code",
      "source": [
        "torch.rand(2, 3).normal_(mean=10, std=1)"
      ],
      "metadata": {
        "id": "rtutb647wgDL",
        "colab": {
          "base_uri": "https://localhost:8080/"
        },
        "outputId": "05247edd-96cc-4795-f1b5-f35fa50d2f6d"
      },
      "execution_count": 14,
      "outputs": [
        {
          "output_type": "execute_result",
          "data": {
            "text/plain": [
              "tensor([[ 9.3019, 10.3838, 10.3655],\n",
              "        [10.5300, 10.2669,  9.8099]])"
            ]
          },
          "metadata": {},
          "execution_count": 14
        }
      ]
    },
    {
      "cell_type": "code",
      "source": [],
      "metadata": {
        "id": "FPVHUgBV57H5"
      },
      "execution_count": 14,
      "outputs": []
    },
    {
      "cell_type": "markdown",
      "source": [
        "### Fixed numbers (n-dimensional)\n"
      ],
      "metadata": {
        "id": "4S53yKUHvnIK"
      }
    },
    {
      "cell_type": "code",
      "source": [
        "torch.zeros(10)"
      ],
      "metadata": {
        "id": "57aQo5PJkywE",
        "colab": {
          "base_uri": "https://localhost:8080/"
        },
        "outputId": "c9143301-8b82-47da-c7c2-3db35d5b84e0"
      },
      "execution_count": 15,
      "outputs": [
        {
          "output_type": "execute_result",
          "data": {
            "text/plain": [
              "tensor([0., 0., 0., 0., 0., 0., 0., 0., 0., 0.])"
            ]
          },
          "metadata": {},
          "execution_count": 15
        }
      ]
    },
    {
      "cell_type": "code",
      "source": [
        "torch.ones(10)"
      ],
      "metadata": {
        "id": "2XksFYlkjzy3",
        "colab": {
          "base_uri": "https://localhost:8080/"
        },
        "outputId": "c3b67c7d-fcb4-43ea-e72e-e841f2a127c8"
      },
      "execution_count": 16,
      "outputs": [
        {
          "output_type": "execute_result",
          "data": {
            "text/plain": [
              "tensor([1., 1., 1., 1., 1., 1., 1., 1., 1., 1.])"
            ]
          },
          "metadata": {},
          "execution_count": 16
        }
      ]
    },
    {
      "cell_type": "code",
      "source": [
        "# placeholder \n",
        "\n",
        "torch.empty(10)"
      ],
      "metadata": {
        "id": "pRhp7vsqvwpm",
        "colab": {
          "base_uri": "https://localhost:8080/"
        },
        "outputId": "152f7c66-ff2c-4a5d-ee82-6f270f4816ad"
      },
      "execution_count": 17,
      "outputs": [
        {
          "output_type": "execute_result",
          "data": {
            "text/plain": [
              "tensor([8.3619e-35, 0.0000e+00, 8.3624e-35, 0.0000e+00, 8.9683e-44, 0.0000e+00,\n",
              "        1.1210e-43, 0.0000e+00, 8.3737e-35, 0.0000e+00])"
            ]
          },
          "metadata": {},
          "execution_count": 17
        }
      ]
    },
    {
      "cell_type": "code",
      "source": [],
      "metadata": {
        "id": "NAEwPYcS6v9U"
      },
      "execution_count": 17,
      "outputs": []
    },
    {
      "cell_type": "code",
      "source": [],
      "metadata": {
        "id": "3yen0_B56xvW"
      },
      "execution_count": 17,
      "outputs": []
    },
    {
      "cell_type": "markdown",
      "source": [
        "# Dimensionality and shape of tensors\n",
        "\n",
        "- N-dimensional data\n",
        "- Manipulating n-dimensional data"
      ],
      "metadata": {
        "id": "nyGbDVrO6xD3"
      }
    },
    {
      "cell_type": "markdown",
      "source": [
        "## N-dimensional data"
      ],
      "metadata": {
        "id": "sjpiAg8eIddm"
      }
    },
    {
      "cell_type": "code",
      "source": [
        "# n-dimensionality = the number of levels of brackets in the data\n",
        "\n",
        "zero_d = torch.tensor(0)\n",
        "one_d = torch.tensor([0])\n",
        "two_d = torch.tensor([[0]])\n",
        "three_d = torch.tensor([[[0]]])\n",
        "\n",
        "\n",
        "zero_d, one_d, two_d, three_d"
      ],
      "metadata": {
        "id": "hZBhIQc46wCx",
        "colab": {
          "base_uri": "https://localhost:8080/"
        },
        "outputId": "0315050f-23a6-4245-8b9a-99280ca1e9d5"
      },
      "execution_count": 18,
      "outputs": [
        {
          "output_type": "execute_result",
          "data": {
            "text/plain": [
              "(tensor(0), tensor([0]), tensor([[0]]), tensor([[[0]]]))"
            ]
          },
          "metadata": {},
          "execution_count": 18
        }
      ]
    },
    {
      "cell_type": "code",
      "source": [
        "# check the dimensionality of tensors \n",
        "\n",
        "zero_d.dim(), one_d.dim(), two_d.dim(), three_d.dim()"
      ],
      "metadata": {
        "id": "-tqyFLh781y9",
        "colab": {
          "base_uri": "https://localhost:8080/"
        },
        "outputId": "811c4177-cc8c-4686-c21d-583eb8ec59c6"
      },
      "execution_count": 19,
      "outputs": [
        {
          "output_type": "execute_result",
          "data": {
            "text/plain": [
              "(0, 1, 2, 3)"
            ]
          },
          "metadata": {},
          "execution_count": 19
        }
      ]
    },
    {
      "cell_type": "code",
      "source": [
        "# check the shape of tensors \n",
        "\n",
        "zero_d.shape, one_d.shape, two_d.shape, three_d.shape"
      ],
      "metadata": {
        "id": "BHb6ATx3CRS1",
        "colab": {
          "base_uri": "https://localhost:8080/"
        },
        "outputId": "f3535d56-51b3-45bd-fc93-aeb8dbe17e93"
      },
      "execution_count": 20,
      "outputs": [
        {
          "output_type": "execute_result",
          "data": {
            "text/plain": [
              "(torch.Size([]), torch.Size([1]), torch.Size([1, 1]), torch.Size([1, 1, 1]))"
            ]
          },
          "metadata": {},
          "execution_count": 20
        }
      ]
    },
    {
      "cell_type": "code",
      "source": [],
      "metadata": {
        "id": "gnHQM_3MCZfp"
      },
      "execution_count": 20,
      "outputs": []
    },
    {
      "cell_type": "code",
      "source": [
        "data = torch.rand(2, 3)\n",
        "\n",
        "print(\"Dim:\", data.dim())\n",
        "print(\"Shape:\", data.shape)\n",
        "print(\"Data:\", data)"
      ],
      "metadata": {
        "id": "NrMhj38I6wJT",
        "colab": {
          "base_uri": "https://localhost:8080/"
        },
        "outputId": "a3121fde-5cfd-4c79-c8a4-a24e363260bd"
      },
      "execution_count": 21,
      "outputs": [
        {
          "output_type": "stream",
          "name": "stdout",
          "text": [
            "Dim: 2\n",
            "Shape: torch.Size([2, 3])\n",
            "Data: tensor([[0.0403, 0.1772, 0.4334],\n",
            "        [0.9745, 0.8069, 0.9623]])\n"
          ]
        }
      ]
    },
    {
      "cell_type": "code",
      "source": [
        "data = torch.rand(2, 3, 4)\n",
        "\n",
        "print(\"Dim:\", data.dim())\n",
        "print(\"Shape:\", data.shape)\n",
        "print(\"Data:\", data)"
      ],
      "metadata": {
        "id": "awxgK6vA6wQ0",
        "colab": {
          "base_uri": "https://localhost:8080/"
        },
        "outputId": "09519dfa-a26f-463e-c0ed-60bdd7963800"
      },
      "execution_count": 22,
      "outputs": [
        {
          "output_type": "stream",
          "name": "stdout",
          "text": [
            "Dim: 3\n",
            "Shape: torch.Size([2, 3, 4])\n",
            "Data: tensor([[[0.4603, 0.4051, 0.1854, 0.8857],\n",
            "         [0.5510, 0.3721, 0.3430, 0.9510],\n",
            "         [0.9504, 0.4472, 0.0144, 0.5486]],\n",
            "\n",
            "        [[0.7321, 0.6253, 0.7147, 0.9343],\n",
            "         [0.8384, 0.0246, 0.0916, 0.8293],\n",
            "         [0.4559, 0.8000, 0.5575, 0.2232]]])\n"
          ]
        }
      ]
    },
    {
      "cell_type": "code",
      "source": [
        "data = torch.rand(2, 3, 4, 5)\n",
        "\n",
        "print(\"Dim:\", data.dim())\n",
        "print(\"Shape:\", data.shape)\n",
        "print(\"Data:\", data)"
      ],
      "metadata": {
        "id": "GZ_J-giF-g9a",
        "colab": {
          "base_uri": "https://localhost:8080/"
        },
        "outputId": "a71f571a-eefb-43dd-a51d-7710aeaee220"
      },
      "execution_count": 23,
      "outputs": [
        {
          "output_type": "stream",
          "name": "stdout",
          "text": [
            "Dim: 4\n",
            "Shape: torch.Size([2, 3, 4, 5])\n",
            "Data: tensor([[[[0.0573, 0.0664, 0.1772, 0.5034, 0.8886],\n",
            "          [0.9803, 0.0788, 0.1429, 0.0913, 0.0885],\n",
            "          [0.8574, 0.0402, 0.8411, 0.5424, 0.0683],\n",
            "          [0.7408, 0.3876, 0.3392, 0.5392, 0.7602]],\n",
            "\n",
            "         [[0.1057, 0.2861, 0.0973, 0.2175, 0.4401],\n",
            "          [0.9332, 0.4769, 0.8143, 0.0253, 0.4611],\n",
            "          [0.4782, 0.1375, 0.0100, 0.8216, 0.6250],\n",
            "          [0.0996, 0.5707, 0.2090, 0.5639, 0.1829]],\n",
            "\n",
            "         [[0.0370, 0.9673, 0.7181, 0.6419, 0.5272],\n",
            "          [0.0490, 0.4635, 0.5673, 0.4208, 0.2548],\n",
            "          [0.8721, 0.2851, 0.2562, 0.5925, 0.1861],\n",
            "          [0.4770, 0.1796, 0.9257, 0.6448, 0.9384]]],\n",
            "\n",
            "\n",
            "        [[[0.7648, 0.4448, 0.7193, 0.9367, 0.6460],\n",
            "          [0.8155, 0.9958, 0.3812, 0.7544, 0.2587],\n",
            "          [0.9121, 0.1267, 0.8188, 0.4031, 0.1459],\n",
            "          [0.8344, 0.4232, 0.1879, 0.0729, 0.9084]],\n",
            "\n",
            "         [[0.1189, 0.4367, 0.2866, 0.4558, 0.1758],\n",
            "          [0.5824, 0.3625, 0.6007, 0.3756, 0.7471],\n",
            "          [0.5741, 0.6586, 0.0112, 0.4328, 0.0034],\n",
            "          [0.8020, 0.8160, 0.1875, 0.1170, 0.1897]],\n",
            "\n",
            "         [[0.3234, 0.8425, 0.9092, 0.3692, 0.0448],\n",
            "          [0.4962, 0.9979, 0.6681, 0.2476, 0.7529],\n",
            "          [0.6227, 0.9670, 0.4955, 0.5111, 0.6672],\n",
            "          [0.1688, 0.5161, 0.6805, 0.7657, 0.0723]]]])\n"
          ]
        }
      ]
    },
    {
      "cell_type": "code",
      "source": [],
      "metadata": {
        "id": "EY9pFy3ZIpHu"
      },
      "execution_count": 23,
      "outputs": []
    },
    {
      "cell_type": "markdown",
      "source": [
        "## Manipulating n-dimensional data\n",
        "\n",
        "- Reshaping n-dimensional data\n",
        "- Indexing \n"
      ],
      "metadata": {
        "id": "acv7kJ_VIqAc"
      }
    },
    {
      "cell_type": "markdown",
      "source": [
        "### Reshaping n-dimensional data"
      ],
      "metadata": {
        "id": "amOWy7t-I4t6"
      }
    },
    {
      "cell_type": "code",
      "source": [
        "data = torch.arange(24)\n",
        "data"
      ],
      "metadata": {
        "id": "d-B7h4ZvJQQl",
        "colab": {
          "base_uri": "https://localhost:8080/"
        },
        "outputId": "269a5604-43fd-437a-9e50-7e9e9c321faf"
      },
      "execution_count": 24,
      "outputs": [
        {
          "output_type": "execute_result",
          "data": {
            "text/plain": [
              "tensor([ 0,  1,  2,  3,  4,  5,  6,  7,  8,  9, 10, 11, 12, 13, 14, 15, 16, 17,\n",
              "        18, 19, 20, 21, 22, 23])"
            ]
          },
          "metadata": {},
          "execution_count": 24
        }
      ]
    },
    {
      "cell_type": "code",
      "source": [
        "data.reshape(4, 6)"
      ],
      "metadata": {
        "id": "Qkd4N3vZJcDQ",
        "colab": {
          "base_uri": "https://localhost:8080/"
        },
        "outputId": "bf4d263e-a1dc-47a5-e521-0d27cf8a0476"
      },
      "execution_count": 25,
      "outputs": [
        {
          "output_type": "execute_result",
          "data": {
            "text/plain": [
              "tensor([[ 0,  1,  2,  3,  4,  5],\n",
              "        [ 6,  7,  8,  9, 10, 11],\n",
              "        [12, 13, 14, 15, 16, 17],\n",
              "        [18, 19, 20, 21, 22, 23]])"
            ]
          },
          "metadata": {},
          "execution_count": 25
        }
      ]
    },
    {
      "cell_type": "code",
      "source": [
        "data.reshape(6, 4)"
      ],
      "metadata": {
        "id": "zXMHOv8MJeuk",
        "colab": {
          "base_uri": "https://localhost:8080/"
        },
        "outputId": "7df0e29a-95da-4b62-cf9a-5069a71c5d9b"
      },
      "execution_count": 26,
      "outputs": [
        {
          "output_type": "execute_result",
          "data": {
            "text/plain": [
              "tensor([[ 0,  1,  2,  3],\n",
              "        [ 4,  5,  6,  7],\n",
              "        [ 8,  9, 10, 11],\n",
              "        [12, 13, 14, 15],\n",
              "        [16, 17, 18, 19],\n",
              "        [20, 21, 22, 23]])"
            ]
          },
          "metadata": {},
          "execution_count": 26
        }
      ]
    },
    {
      "cell_type": "code",
      "source": [
        "data.reshape(2,3,4)"
      ],
      "metadata": {
        "id": "sxJzswNiJQWW",
        "colab": {
          "base_uri": "https://localhost:8080/"
        },
        "outputId": "880a05ab-0f08-4834-a5d5-618314ce9c1f"
      },
      "execution_count": 27,
      "outputs": [
        {
          "output_type": "execute_result",
          "data": {
            "text/plain": [
              "tensor([[[ 0,  1,  2,  3],\n",
              "         [ 4,  5,  6,  7],\n",
              "         [ 8,  9, 10, 11]],\n",
              "\n",
              "        [[12, 13, 14, 15],\n",
              "         [16, 17, 18, 19],\n",
              "         [20, 21, 22, 23]]])"
            ]
          },
          "metadata": {},
          "execution_count": 27
        }
      ]
    },
    {
      "cell_type": "code",
      "source": [],
      "metadata": {
        "id": "-aViW0iNJQaY"
      },
      "execution_count": 27,
      "outputs": []
    },
    {
      "cell_type": "markdown",
      "source": [
        "### Indexing"
      ],
      "metadata": {
        "id": "x-7elVNwJAfs"
      }
    },
    {
      "cell_type": "code",
      "source": [
        "data = torch.arange(24).reshape(2,3,4)\n",
        "data"
      ],
      "metadata": {
        "id": "XlIG9DBoI-2h",
        "colab": {
          "base_uri": "https://localhost:8080/"
        },
        "outputId": "48a26021-f63e-4ad1-d1d1-f4fad3489732"
      },
      "execution_count": 28,
      "outputs": [
        {
          "output_type": "execute_result",
          "data": {
            "text/plain": [
              "tensor([[[ 0,  1,  2,  3],\n",
              "         [ 4,  5,  6,  7],\n",
              "         [ 8,  9, 10, 11]],\n",
              "\n",
              "        [[12, 13, 14, 15],\n",
              "         [16, 17, 18, 19],\n",
              "         [20, 21, 22, 23]]])"
            ]
          },
          "metadata": {},
          "execution_count": 28
        }
      ]
    },
    {
      "cell_type": "code",
      "source": [
        "print(data[0], \"\\n\\n\", data[1])"
      ],
      "metadata": {
        "id": "hciPp5NMJ6E6",
        "colab": {
          "base_uri": "https://localhost:8080/"
        },
        "outputId": "cad252ad-9bb6-4931-b3d8-1944b8304d04"
      },
      "execution_count": 29,
      "outputs": [
        {
          "output_type": "stream",
          "name": "stdout",
          "text": [
            "tensor([[ 0,  1,  2,  3],\n",
            "        [ 4,  5,  6,  7],\n",
            "        [ 8,  9, 10, 11]]) \n",
            "\n",
            " tensor([[12, 13, 14, 15],\n",
            "        [16, 17, 18, 19],\n",
            "        [20, 21, 22, 23]])\n"
          ]
        }
      ]
    },
    {
      "cell_type": "code",
      "source": [
        "data[0,0]"
      ],
      "metadata": {
        "id": "w_Z-6Q1MKGAT",
        "colab": {
          "base_uri": "https://localhost:8080/"
        },
        "outputId": "a722f61c-9de6-4c61-eb6b-5893e8af68c9"
      },
      "execution_count": 30,
      "outputs": [
        {
          "output_type": "execute_result",
          "data": {
            "text/plain": [
              "tensor([0, 1, 2, 3])"
            ]
          },
          "metadata": {},
          "execution_count": 30
        }
      ]
    },
    {
      "cell_type": "code",
      "source": [
        "data[0,0,0]"
      ],
      "metadata": {
        "id": "WSsuGhYrIpRu",
        "colab": {
          "base_uri": "https://localhost:8080/"
        },
        "outputId": "26ee9f11-cdc9-42d7-e3d9-c56a30d92bc3"
      },
      "execution_count": 31,
      "outputs": [
        {
          "output_type": "execute_result",
          "data": {
            "text/plain": [
              "tensor(0)"
            ]
          },
          "metadata": {},
          "execution_count": 31
        }
      ]
    },
    {
      "cell_type": "code",
      "source": [
        "# quiz: how to retrieve 5\n",
        "\n",
        "# data[x, y, z]"
      ],
      "metadata": {
        "id": "MZkr4puZLNST"
      },
      "execution_count": 32,
      "outputs": []
    },
    {
      "cell_type": "code",
      "source": [],
      "metadata": {
        "id": "-lUHrGcXAbwT"
      },
      "execution_count": 32,
      "outputs": []
    },
    {
      "cell_type": "markdown",
      "source": [
        "# Arithmetic operation \n",
        "\n",
        "- Element-wise\n",
        "- Dot product\n",
        "- Matrix multiplication \n",
        "- Built-in shortcuts "
      ],
      "metadata": {
        "id": "Iwi0hVhucqJs"
      }
    },
    {
      "cell_type": "markdown",
      "source": [
        "## Element-wise"
      ],
      "metadata": {
        "id": "dCIgwyvPO0QV"
      }
    },
    {
      "cell_type": "code",
      "source": [
        "data = torch.arange(24).reshape(2,3,4)\n",
        "data"
      ],
      "metadata": {
        "id": "tQhN9LohPKZH",
        "colab": {
          "base_uri": "https://localhost:8080/"
        },
        "outputId": "eca371cb-c8de-44d0-8314-b6f62fc5e3bb"
      },
      "execution_count": 33,
      "outputs": [
        {
          "output_type": "execute_result",
          "data": {
            "text/plain": [
              "tensor([[[ 0,  1,  2,  3],\n",
              "         [ 4,  5,  6,  7],\n",
              "         [ 8,  9, 10, 11]],\n",
              "\n",
              "        [[12, 13, 14, 15],\n",
              "         [16, 17, 18, 19],\n",
              "         [20, 21, 22, 23]]])"
            ]
          },
          "metadata": {},
          "execution_count": 33
        }
      ]
    },
    {
      "cell_type": "code",
      "source": [
        "data ** 2"
      ],
      "metadata": {
        "id": "_-lVMLriQhR2",
        "colab": {
          "base_uri": "https://localhost:8080/"
        },
        "outputId": "2151ca0f-bec1-4c1b-deab-6cab3de4ea04"
      },
      "execution_count": 34,
      "outputs": [
        {
          "output_type": "execute_result",
          "data": {
            "text/plain": [
              "tensor([[[  0,   1,   4,   9],\n",
              "         [ 16,  25,  36,  49],\n",
              "         [ 64,  81, 100, 121]],\n",
              "\n",
              "        [[144, 169, 196, 225],\n",
              "         [256, 289, 324, 361],\n",
              "         [400, 441, 484, 529]]])"
            ]
          },
          "metadata": {},
          "execution_count": 34
        }
      ]
    },
    {
      "cell_type": "code",
      "source": [
        "data * 10 + 3"
      ],
      "metadata": {
        "id": "MwB530P1OpR6",
        "colab": {
          "base_uri": "https://localhost:8080/"
        },
        "outputId": "9867a98f-0d61-4a09-dda5-a9e2fd034a0f"
      },
      "execution_count": 35,
      "outputs": [
        {
          "output_type": "execute_result",
          "data": {
            "text/plain": [
              "tensor([[[  3,  13,  23,  33],\n",
              "         [ 43,  53,  63,  73],\n",
              "         [ 83,  93, 103, 113]],\n",
              "\n",
              "        [[123, 133, 143, 153],\n",
              "         [163, 173, 183, 193],\n",
              "         [203, 213, 223, 233]]])"
            ]
          },
          "metadata": {},
          "execution_count": 35
        }
      ]
    },
    {
      "cell_type": "code",
      "source": [],
      "metadata": {
        "id": "L3Vsxhy8QlHr"
      },
      "execution_count": 35,
      "outputs": []
    },
    {
      "cell_type": "code",
      "source": [
        "data + data"
      ],
      "metadata": {
        "id": "oTUiZkf6Ook8",
        "colab": {
          "base_uri": "https://localhost:8080/"
        },
        "outputId": "dc5e0ecb-9fbc-4f38-c1cc-80bcd46b7e90"
      },
      "execution_count": 36,
      "outputs": [
        {
          "output_type": "execute_result",
          "data": {
            "text/plain": [
              "tensor([[[ 0,  2,  4,  6],\n",
              "         [ 8, 10, 12, 14],\n",
              "         [16, 18, 20, 22]],\n",
              "\n",
              "        [[24, 26, 28, 30],\n",
              "         [32, 34, 36, 38],\n",
              "         [40, 42, 44, 46]]])"
            ]
          },
          "metadata": {},
          "execution_count": 36
        }
      ]
    },
    {
      "cell_type": "code",
      "source": [
        "data * data"
      ],
      "metadata": {
        "id": "iACiv75BPhwg",
        "colab": {
          "base_uri": "https://localhost:8080/"
        },
        "outputId": "1f8393d0-5717-4fed-e6ee-fc04173249ca"
      },
      "execution_count": 37,
      "outputs": [
        {
          "output_type": "execute_result",
          "data": {
            "text/plain": [
              "tensor([[[  0,   1,   4,   9],\n",
              "         [ 16,  25,  36,  49],\n",
              "         [ 64,  81, 100, 121]],\n",
              "\n",
              "        [[144, 169, 196, 225],\n",
              "         [256, 289, 324, 361],\n",
              "         [400, 441, 484, 529]]])"
            ]
          },
          "metadata": {},
          "execution_count": 37
        }
      ]
    },
    {
      "cell_type": "markdown",
      "source": [
        "- Build any custom function, e.g., sigmoid \n",
        "\n",
        "$$ \\text{For } \\textbf{x} \\in \\mathbb{R}^n \\text{,     } sigmoid(\\textbf{x}) = sigmoid\\begin{pmatrix}\n",
        "    \\textbf{x}_1  \\\\\n",
        "    \\textbf{x}_2  \\\\\n",
        "    ...  \\\\\n",
        "    \\textbf{x}_n  \\\\\n",
        "\\end{pmatrix} = \\begin{pmatrix}\n",
        "    \\frac{1}{1+e^{-\\textbf{x}_1}}  \\\\\n",
        "    \\frac{1}{1+e^{-\\textbf{x}_2}}  \\\\\n",
        "    ...  \\\\\n",
        "    \\frac{1}{1+e^{-\\textbf{x}_n}}  \\\\\n",
        "\\end{pmatrix} $$"
      ],
      "metadata": {
        "id": "49RshUMXUuCg"
      }
    },
    {
      "cell_type": "code",
      "source": [
        "def sigmoid(x):\n",
        "    return 1 / (1 + torch.exp(-x))"
      ],
      "metadata": {
        "id": "juTrzb2VUrb3"
      },
      "execution_count": 38,
      "outputs": []
    },
    {
      "cell_type": "code",
      "source": [
        "X = torch.linspace(start=-5, end=5, steps=100)\n",
        "\n",
        "Y = sigmoid(X)\n",
        "plt.plot(X, Y)\n",
        "plt.grid(True, alpha=0.5)\n",
        "plt.yticks([i/10 for i in range(11)])\n",
        "plt.show()"
      ],
      "metadata": {
        "id": "ow9jJj1sVT8W",
        "colab": {
          "base_uri": "https://localhost:8080/",
          "height": 430
        },
        "outputId": "e90f5bb3-0349-483e-bdfb-0f7921a2d5d7"
      },
      "execution_count": 39,
      "outputs": [
        {
          "output_type": "display_data",
          "data": {
            "text/plain": [
              "<Figure size 640x480 with 1 Axes>"
            ],
            "image/png": "[encoded data removed]"
          },
          "metadata": {}
        }
      ]
    },
    {
      "cell_type": "code",
      "source": [],
      "metadata": {
        "id": "44vsLbKCQXUj"
      },
      "execution_count": 39,
      "outputs": []
    },
    {
      "cell_type": "markdown",
      "source": [
        "## Dot product\n",
        "\n",
        "$$\\textbf{a} \\cdot \\textbf{b} = \\sum_{i=1}^{n} \\textbf{a}_{i} *  \\textbf{b}_{i}$$"
      ],
      "metadata": {
        "id": "Ei3fvoFrM38I"
      }
    },
    {
      "cell_type": "code",
      "source": [
        "vector1 = torch.arange(5)\n",
        "vector2 = torch.arange(5) + 5\n",
        "print(vector1, vector2)"
      ],
      "metadata": {
        "id": "xF6_HfE3M3Xd",
        "colab": {
          "base_uri": "https://localhost:8080/"
        },
        "outputId": "2ca9997b-05a9-46c8-a4a0-a9172d53d70f"
      },
      "execution_count": 40,
      "outputs": [
        {
          "output_type": "stream",
          "name": "stdout",
          "text": [
            "tensor([0, 1, 2, 3, 4]) tensor([5, 6, 7, 8, 9])\n"
          ]
        }
      ]
    },
    {
      "cell_type": "code",
      "source": [
        "vector1 @ vector2"
      ],
      "metadata": {
        "id": "qu2TnfU-NN5v",
        "colab": {
          "base_uri": "https://localhost:8080/"
        },
        "outputId": "2a018674-214b-49ea-db2d-2d5873a9a513"
      },
      "execution_count": 41,
      "outputs": [
        {
          "output_type": "execute_result",
          "data": {
            "text/plain": [
              "tensor(80)"
            ]
          },
          "metadata": {},
          "execution_count": 41
        }
      ]
    },
    {
      "cell_type": "code",
      "source": [
        "vector1.dot(vector2)"
      ],
      "metadata": {
        "id": "THct2-nBNQQP",
        "colab": {
          "base_uri": "https://localhost:8080/"
        },
        "outputId": "f94a6fc9-e8f9-48cf-967f-c8f1133e2024"
      },
      "execution_count": 42,
      "outputs": [
        {
          "output_type": "execute_result",
          "data": {
            "text/plain": [
              "tensor(80)"
            ]
          },
          "metadata": {},
          "execution_count": 42
        }
      ]
    },
    {
      "cell_type": "code",
      "source": [
        "print(vector1 * vector2, sum(vector1 * vector2))"
      ],
      "metadata": {
        "id": "EQ1gY18zSVvA",
        "colab": {
          "base_uri": "https://localhost:8080/"
        },
        "outputId": "1fbb235c-4181-48f7-b049-c90a9d55215a"
      },
      "execution_count": 43,
      "outputs": [
        {
          "output_type": "stream",
          "name": "stdout",
          "text": [
            "tensor([ 0,  6, 14, 24, 36]) tensor(80)\n"
          ]
        }
      ]
    },
    {
      "cell_type": "code",
      "source": [],
      "metadata": {
        "id": "t4OrXiDsW2QJ"
      },
      "execution_count": 43,
      "outputs": []
    },
    {
      "cell_type": "markdown",
      "source": [
        "## Matrix multiplication "
      ],
      "metadata": {
        "id": "7ob0H_sAMOCt"
      }
    },
    {
      "cell_type": "code",
      "source": [
        "matrix1 = torch.rand(2, 3)\n",
        "matrix2 = torch.rand(3, 4)\n",
        "matrix1, matrix2"
      ],
      "metadata": {
        "id": "T3JUC0v2MQTP",
        "colab": {
          "base_uri": "https://localhost:8080/"
        },
        "outputId": "768b3d55-c0b6-42eb-d0da-f324e59e1c31"
      },
      "execution_count": 44,
      "outputs": [
        {
          "output_type": "execute_result",
          "data": {
            "text/plain": [
              "(tensor([[0.1406, 0.9158, 0.1101],\n",
              "         [0.3246, 0.6058, 0.3436]]),\n",
              " tensor([[0.9851, 0.0503, 0.2886, 0.2147],\n",
              "         [0.0941, 0.0583, 0.5524, 0.8799],\n",
              "         [0.4236, 0.5951, 0.9009, 0.6368]]))"
            ]
          },
          "metadata": {},
          "execution_count": 44
        }
      ]
    },
    {
      "cell_type": "code",
      "source": [
        "matrix1 @ matrix2"
      ],
      "metadata": {
        "id": "iwnb7X7bMQYB",
        "colab": {
          "base_uri": "https://localhost:8080/"
        },
        "outputId": "470b27ce-cf87-4a09-f5eb-4c5292a65eb5"
      },
      "execution_count": 45,
      "outputs": [
        {
          "output_type": "execute_result",
          "data": {
            "text/plain": [
              "tensor([[0.2713, 0.1260, 0.6457, 0.9061],\n",
              "        [0.5223, 0.2561, 0.7379, 0.8215]])"
            ]
          },
          "metadata": {},
          "execution_count": 45
        }
      ]
    },
    {
      "cell_type": "code",
      "source": [
        "matrix1.matmul(matrix2)"
      ],
      "metadata": {
        "id": "Aa0e_cUgSr9i",
        "colab": {
          "base_uri": "https://localhost:8080/"
        },
        "outputId": "3f5efe9b-df79-40ef-ce78-7aab80ec1b6c"
      },
      "execution_count": 46,
      "outputs": [
        {
          "output_type": "execute_result",
          "data": {
            "text/plain": [
              "tensor([[0.2713, 0.1260, 0.6457, 0.9061],\n",
              "        [0.5223, 0.2561, 0.7379, 0.8215]])"
            ]
          },
          "metadata": {},
          "execution_count": 46
        }
      ]
    },
    {
      "cell_type": "code",
      "source": [
        "one_to_nine = torch.arange(1, 10)\n",
        "\n",
        "one_to_nine.reshape(9, 1) @ one_to_nine.reshape(1, 9)"
      ],
      "metadata": {
        "id": "PKT9M_T64Znk",
        "colab": {
          "base_uri": "https://localhost:8080/"
        },
        "outputId": "89c4d49d-b0cd-44e0-c557-9175f68d4083"
      },
      "execution_count": 47,
      "outputs": [
        {
          "output_type": "execute_result",
          "data": {
            "text/plain": [
              "tensor([[ 1,  2,  3,  4,  5,  6,  7,  8,  9],\n",
              "        [ 2,  4,  6,  8, 10, 12, 14, 16, 18],\n",
              "        [ 3,  6,  9, 12, 15, 18, 21, 24, 27],\n",
              "        [ 4,  8, 12, 16, 20, 24, 28, 32, 36],\n",
              "        [ 5, 10, 15, 20, 25, 30, 35, 40, 45],\n",
              "        [ 6, 12, 18, 24, 30, 36, 42, 48, 54],\n",
              "        [ 7, 14, 21, 28, 35, 42, 49, 56, 63],\n",
              "        [ 8, 16, 24, 32, 40, 48, 56, 64, 72],\n",
              "        [ 9, 18, 27, 36, 45, 54, 63, 72, 81]])"
            ]
          },
          "metadata": {},
          "execution_count": 47
        }
      ]
    },
    {
      "cell_type": "code",
      "source": [],
      "metadata": {
        "id": "J0_-k1_6HMlS"
      },
      "execution_count": 47,
      "outputs": []
    },
    {
      "cell_type": "markdown",
      "source": [
        "## Built-in shortcuts"
      ],
      "metadata": {
        "id": "9pi4AaG83kE8"
      }
    },
    {
      "cell_type": "code",
      "source": [
        "data = torch.rand(2, 4)\n",
        "data"
      ],
      "metadata": {
        "id": "bUyhXABF24sb",
        "colab": {
          "base_uri": "https://localhost:8080/"
        },
        "outputId": "c9eb2789-7354-44d9-d467-fd249000acf5"
      },
      "execution_count": 48,
      "outputs": [
        {
          "output_type": "execute_result",
          "data": {
            "text/plain": [
              "tensor([[0.3285, 0.5481, 0.9995, 0.9319],\n",
              "        [0.6817, 0.0356, 0.2756, 0.7125]])"
            ]
          },
          "metadata": {},
          "execution_count": 48
        }
      ]
    },
    {
      "cell_type": "code",
      "source": [
        "print(data.mean(), data.std(), data.min(), data.max(), data.median())"
      ],
      "metadata": {
        "id": "4PKV7nP126zb",
        "colab": {
          "base_uri": "https://localhost:8080/"
        },
        "outputId": "f4381644-ee6e-4aa5-a33b-7a049f8f8970"
      },
      "execution_count": 49,
      "outputs": [
        {
          "output_type": "stream",
          "name": "stdout",
          "text": [
            "tensor(0.5642) tensor(0.3336) tensor(0.0356) tensor(0.9995) tensor(0.5481)\n"
          ]
        }
      ]
    },
    {
      "cell_type": "code",
      "source": [
        "print(data.mean(dim=0), data.mean(dim=1))"
      ],
      "metadata": {
        "id": "5PoOw8Si246r",
        "colab": {
          "base_uri": "https://localhost:8080/"
        },
        "outputId": "eec21f8e-79ac-4613-9b25-1a957f918499"
      },
      "execution_count": 50,
      "outputs": [
        {
          "output_type": "stream",
          "name": "stdout",
          "text": [
            "tensor([0.5051, 0.2919, 0.6376, 0.8222]) tensor([0.7020, 0.4263])\n"
          ]
        }
      ]
    },
    {
      "cell_type": "code",
      "source": [
        "print(data.std(dim=0), data.std(dim=1))"
      ],
      "metadata": {
        "id": "1HxYqglj24_p",
        "colab": {
          "base_uri": "https://localhost:8080/"
        },
        "outputId": "48e142ce-a37d-4035-b3cc-1ff16b138595"
      },
      "execution_count": 51,
      "outputs": [
        {
          "output_type": "stream",
          "name": "stdout",
          "text": [
            "tensor([0.2497, 0.3624, 0.5119, 0.1551]) tensor([0.3186, 0.3279])\n"
          ]
        }
      ]
    },
    {
      "cell_type": "code",
      "source": [
        "print(data.min(dim=0), data.min(dim=1))"
      ],
      "metadata": {
        "id": "wCmYpUzA25HC",
        "colab": {
          "base_uri": "https://localhost:8080/"
        },
        "outputId": "b0f6601e-3f8f-457f-e8c4-dbe0cde09a5b"
      },
      "execution_count": 52,
      "outputs": [
        {
          "output_type": "stream",
          "name": "stdout",
          "text": [
            "torch.return_types.min(\n",
            "values=tensor([0.3285, 0.0356, 0.2756, 0.7125]),\n",
            "indices=tensor([0, 1, 1, 1])) torch.return_types.min(\n",
            "values=tensor([0.3285, 0.0356]),\n",
            "indices=tensor([0, 1]))\n"
          ]
        }
      ]
    },
    {
      "cell_type": "code",
      "source": [
        "print(data.max(dim=0), data.max(dim=1))"
      ],
      "metadata": {
        "id": "UiSeSK912dFI",
        "colab": {
          "base_uri": "https://localhost:8080/"
        },
        "outputId": "23af9e5d-8487-487c-be13-da5a3790ebc2"
      },
      "execution_count": 53,
      "outputs": [
        {
          "output_type": "stream",
          "name": "stdout",
          "text": [
            "torch.return_types.max(\n",
            "values=tensor([0.6817, 0.5481, 0.9995, 0.9319]),\n",
            "indices=tensor([1, 0, 0, 0])) torch.return_types.max(\n",
            "values=tensor([0.9995, 0.7125]),\n",
            "indices=tensor([2, 3]))\n"
          ]
        }
      ]
    },
    {
      "cell_type": "code",
      "source": [],
      "metadata": {
        "id": "tHt9VrbMFJqI"
      },
      "execution_count": 53,
      "outputs": []
    },
    {
      "cell_type": "markdown",
      "source": [
        "# Why tensors? Speed! \n",
        "\n",
        "- Even faster under GPU"
      ],
      "metadata": {
        "id": "JonsehSDTH3X"
      }
    },
    {
      "cell_type": "code",
      "source": [
        "normal_numbers = list(range(1000000))\n",
        "tensor_numbers = torch.tensor(normal_numbers)"
      ],
      "metadata": {
        "id": "By0DnAJGbGgJ"
      },
      "execution_count": 54,
      "outputs": []
    },
    {
      "cell_type": "code",
      "source": [
        "%%time\n",
        "normal_numbers_plus_ten = [n + 10 for n in normal_numbers]"
      ],
      "metadata": {
        "id": "gkubz98FdEZ_",
        "colab": {
          "base_uri": "https://localhost:8080/"
        },
        "outputId": "e56fd47a-8c06-4b90-be5a-83edcda1b6c1"
      },
      "execution_count": 55,
      "outputs": [
        {
          "output_type": "stream",
          "name": "stdout",
          "text": [
            "CPU times: user 76 ms, sys: 26.4 ms, total: 102 ms\n",
            "Wall time: 155 ms\n"
          ]
        }
      ]
    },
    {
      "cell_type": "code",
      "source": [
        "%%time\n",
        "tensor_numbers_plus_ten = tensor_numbers + 10"
      ],
      "metadata": {
        "id": "g0FPRdJqdGNU",
        "colab": {
          "base_uri": "https://localhost:8080/"
        },
        "outputId": "ad257436-8e3b-4ae0-b888-fc1d72a9637a"
      },
      "execution_count": 56,
      "outputs": [
        {
          "output_type": "stream",
          "name": "stdout",
          "text": [
            "CPU times: user 1.98 ms, sys: 3.99 ms, total: 5.97 ms\n",
            "Wall time: 11.9 ms\n"
          ]
        }
      ]
    },
    {
      "cell_type": "code",
      "source": [],
      "metadata": {
        "id": "eC2_cYU6dsZq"
      },
      "execution_count": 56,
      "outputs": []
    }
  ]
}